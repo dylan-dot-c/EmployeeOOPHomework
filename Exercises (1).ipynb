{
 "cells": [
  {
   "cell_type": "markdown",
   "metadata": {},
   "source": [
    "#### Exercise 1 - Class Inheritance"
   ]
  },
  {
   "cell_type": "markdown",
   "metadata": {},
   "source": [
    "Create an Employee class that sets an employee's first name, last name, job title, salary, and email. The Employee class should have a class attribute for the raise amount set to 5% (1.05). Create a method that will apply the raise to an employee's salary."
   ]
  },
  {
   "cell_type": "code",
   "execution_count": 37,
   "metadata": {},
   "outputs": [],
   "source": [
    "# Write the Employee Parent Class Here\n",
    "\n",
    "class Employee:\n",
    "    raiseAmount = 1.05\n",
    "    def __init__(self, firstName, lastName, jobTitle, salary, email):\n",
    "        self.firstName = firstName\n",
    "        self.lastName = lastName\n",
    "        self.jobTitle = jobTitle\n",
    "        self.salary = salary\n",
    "        self.email = email\n",
    "        print(f\"New employee has been hired!! Welcome {self.firstName} {self.lastName}\")\n",
    "        \n",
    "    def applyRaise(self):\n",
    "        self.salary *= self.raiseAmount\n",
    "        print(f\"Employee has received a raise!! New salary is {self.salary}\")"
   ]
  },
  {
   "cell_type": "markdown",
   "metadata": {},
   "source": [
    "Create two more classes that inherit from the Employee class. One for Sales and one for Development. Both of these classes will have the same attributes as the Employee.<br>\n",
    "- For the Sales employees, add a phone number attribute on instantiation using the super method. \n",
    "- Create a method on the Sales class that will \"Send a Follow Up Email\". It should take in a customer name and \"send\" aka print a formatted email \"Dear *customer*, Thank you for your interest in our product. Please let me know if you have any questions. My email is *email* or my phone number is *phone number*. Thanks, *full name*\"\n",
    "- Create a method on the Development class called code that will print out \"*full name* is writing code\"."
   ]
  },
  {
   "cell_type": "code",
   "execution_count": 27,
   "metadata": {},
   "outputs": [],
   "source": [
    "# Write the Sales child Class Here\n",
    "\n",
    "class Sales(Employee):\n",
    "    \n",
    "    def __init__(self, firstName, lastName, jobTitle, salary, email, phoneNumber):\n",
    "        super().__init__(firstName, lastName, jobTitle, salary, email)\n",
    "        self.phoneNumber = phoneNumber\n",
    "        \n",
    "    def followUpEmail(self, recepient):\n",
    "        print(f\"\"\"\n",
    "        Dear {recepient},\n",
    "        \n",
    "            Thank you for your interest in our product.\n",
    "        \n",
    "            Please let me know if you have any questions.\n",
    "        \n",
    "            My email is {self.email} or my phone number is {self.phoneNumber}.\n",
    "        \n",
    "        Thanks, {self.firstName} {self.lastName}\n",
    "        \n",
    "        \"\"\")\n",
    "        \n",
    "# Write the Development child Class Here\n",
    "class Development(Employee):\n",
    "    def __init__(self,firstName, lastName, jobTitle, salary, email):\n",
    "        super().__init__(firstName, lastName, jobTitle, salary, email)\n",
    "        \n",
    "    def code(self):\n",
    "        print(f\"{self.firstName} {self.lastName} is coding right now.\")\n"
   ]
  },
  {
   "cell_type": "markdown",
   "metadata": {},
   "source": [
    "- Create an instance of a Sales Employee with a salary of $50,000.\n",
    "- Send follow up emails to \"Mike O'Neil\" and \"Hannah Stern\"\n",
    "- Give the employee a raise and print the salary"
   ]
  },
  {
   "cell_type": "code",
   "execution_count": 38,
   "metadata": {},
   "outputs": [
    {
     "name": "stdout",
     "output_type": "stream",
     "text": [
      "New employee has been hired!! Welcome Dylan Heslop\n"
     ]
    }
   ],
   "source": [
    "# Create the instance\n",
    "salesEmp = Sales(\"Dylan\", \"Heslop\", \"Sales Manager\", 50_000, \"heslopd23@gmail.com\", \"987124399\")"
   ]
  },
  {
   "cell_type": "code",
   "execution_count": 29,
   "metadata": {},
   "outputs": [
    {
     "name": "stdout",
     "output_type": "stream",
     "text": [
      "\n",
      "        Dear Mike O'Neil,\n",
      "        \n",
      "            Thank you for your interest in our product.\n",
      "        \n",
      "            Please let me know if you have any questions.\n",
      "        \n",
      "            My email is heslopd23@gmail.com or my phone number is 987124399.\n",
      "        \n",
      "        Thanks, Dylan Heslop\n",
      "        \n",
      "        \n"
     ]
    }
   ],
   "source": [
    "# Send follow up to Mike\n",
    "salesEmp.followUpEmail(\"Mike O'Neil\")"
   ]
  },
  {
   "cell_type": "code",
   "execution_count": 30,
   "metadata": {},
   "outputs": [
    {
     "name": "stdout",
     "output_type": "stream",
     "text": [
      "\n",
      "        Dear Hannah Stern,\n",
      "        \n",
      "            Thank you for your interest in our product.\n",
      "        \n",
      "            Please let me know if you have any questions.\n",
      "        \n",
      "            My email is heslopd23@gmail.com or my phone number is 987124399.\n",
      "        \n",
      "        Thanks, Dylan Heslop\n",
      "        \n",
      "        \n"
     ]
    }
   ],
   "source": [
    "# Send follow up to Hannah\n",
    "salesEmp.followUpEmail(\"Hannah Stern\")"
   ]
  },
  {
   "cell_type": "code",
   "execution_count": 31,
   "metadata": {},
   "outputs": [
    {
     "name": "stdout",
     "output_type": "stream",
     "text": [
      "Employee has received a raise!! New salary is 52500.0\n"
     ]
    }
   ],
   "source": [
    "# Give the sales employee a raise\n",
    "salesEmp.applyRaise()"
   ]
  },
  {
   "cell_type": "markdown",
   "metadata": {},
   "source": [
    "- Create an instance of a Development Employee with a salary of $100,000\n",
    "- Write some code with this employee\n",
    "- Give the employee a raise and print the salary"
   ]
  },
  {
   "cell_type": "code",
   "execution_count": 32,
   "metadata": {},
   "outputs": [
    {
     "name": "stdout",
     "output_type": "stream",
     "text": [
      "New employee has been hired!! Welcome Brian Jackson\n"
     ]
    }
   ],
   "source": [
    "# Create the instance\n",
    "devEmp = Development(\"Brian\", \"Jackson\", \"Lead Developer\", 100000, \"brianJ@dev.com\")"
   ]
  },
  {
   "cell_type": "code",
   "execution_count": 33,
   "metadata": {},
   "outputs": [
    {
     "name": "stdout",
     "output_type": "stream",
     "text": [
      "Brian Jackson is coding right now.\n"
     ]
    }
   ],
   "source": [
    "# Write some code (call code method)\n",
    "devEmp.code()"
   ]
  },
  {
   "cell_type": "code",
   "execution_count": 34,
   "metadata": {},
   "outputs": [
    {
     "name": "stdout",
     "output_type": "stream",
     "text": [
      "Employee has received a raise!! New salary is 105000.0\n"
     ]
    }
   ],
   "source": [
    "# Give the dev employee a raise\n",
    "devEmp.applyRaise()"
   ]
  },
  {
   "cell_type": "markdown",
   "metadata": {},
   "source": [
    "#### Exercise 2 - Importing Modules"
   ]
  },
  {
   "cell_type": "markdown",
   "metadata": {},
   "source": [
    "In VS Code, create a module titled `geometry` and add two functions in there. One that will calculate the area of a circle given a radius. The second will find the hypotenuse of a right angle given the two sides. Import the module or the functions from the module and use it to find the answers to the below questions"
   ]
  },
  {
   "cell_type": "markdown",
   "metadata": {},
   "source": [
    "What is the area of a circle with a radius of 7cm?"
   ]
  },
  {
   "cell_type": "code",
   "execution_count": 39,
   "metadata": {},
   "outputs": [
    {
     "name": "stdout",
     "output_type": "stream",
     "text": [
      "Help on function areaOfCircle in module geometry:\n",
      "\n",
      "areaOfCircle(radius: float)\n",
      "    Function that takes in a radius as a parameted and returns the area of A circle with radius R of type float\n",
      "\n"
     ]
    }
   ],
   "source": [
    "from geometry import hypothenuse, areaOfCircle\n",
    "help(areaOfCircle)"
   ]
  },
  {
   "cell_type": "markdown",
   "metadata": {},
   "source": [
    "What is the hypotenuse of a right angle with sides of 3in and 4in?"
   ]
  },
  {
   "cell_type": "code",
   "execution_count": 36,
   "metadata": {},
   "outputs": [
    {
     "data": {
      "text/plain": [
       "5.0"
      ]
     },
     "execution_count": 36,
     "metadata": {},
     "output_type": "execute_result"
    }
   ],
   "source": [
    "hypothenuse(3,4)"
   ]
  }
 ],
 "metadata": {
  "kernelspec": {
   "display_name": "Python 3 (ipykernel)",
   "language": "python",
   "name": "python3"
  },
  "language_info": {
   "codemirror_mode": {
    "name": "ipython",
    "version": 3
   },
   "file_extension": ".py",
   "mimetype": "text/x-python",
   "name": "python",
   "nbconvert_exporter": "python",
   "pygments_lexer": "ipython3",
   "version": "3.11.4"
  }
 },
 "nbformat": 4,
 "nbformat_minor": 4
}
